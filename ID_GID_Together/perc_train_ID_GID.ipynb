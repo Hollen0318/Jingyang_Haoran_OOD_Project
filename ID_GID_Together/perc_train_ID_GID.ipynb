{
 "cells": [
  {
   "cell_type": "code",
   "execution_count": null,
   "metadata": {},
   "outputs": [],
   "source": [
    "!nvidia-smi"
   ]
  },
  {
   "cell_type": "code",
   "execution_count": 2,
   "metadata": {},
   "outputs": [
    {
     "name": "stdout",
     "output_type": "stream",
     "text": [
      "device: cuda\n"
     ]
    }
   ],
   "source": [
    "import torch\n",
    "from torch.utils.data import Subset\n",
    "device = torch.device(\"cuda\" if torch.cuda.is_available() else \"cpu\")\n",
    "print(\"device:\", device)\n",
    "\n",
    "import numpy as np\n",
    "\n",
    "import torch.nn as nn\n",
    "import torch.nn.functional as F\n",
    "\n",
    "import torchvision\n",
    "import torchvision.transforms as transforms\n",
    "\n",
    "from torch.utils.data import DataLoader\n",
    "from tqdm import tqdm"
   ]
  },
  {
   "cell_type": "code",
   "execution_count": 3,
   "metadata": {},
   "outputs": [],
   "source": [
    "class ConcatDataset(torch.utils.data.Dataset):\n",
    "    def __init__(self, *datasets):\n",
    "        self.datasets = datasets\n",
    "\n",
    "    def __getitem__(self, i):\n",
    "        return tuple(d[i] for d in self.datasets)\n",
    "\n",
    "    def __len__(self):\n",
    "        return min(len(d) for d in self.datasets)"
   ]
  },
  {
   "cell_type": "code",
   "execution_count": null,
   "metadata": {},
   "outputs": [],
   "source": [
    "transform_train = transforms.Compose([\n",
    "    transforms.RandomCrop(32, padding=4),\n",
    "    transforms.RandomHorizontalFlip(),\n",
    "    transforms.ToTensor(),\n",
    "    transforms.Normalize((0.4914, 0.4822, 0.4465), (0.2023, 0.1994, 0.2010)),\n",
    "])\n",
    "\n",
    "transform_test = transforms.Compose([\n",
    "    transforms.ToTensor(),\n",
    "    transforms.Normalize((0.4914, 0.4822, 0.4465), (0.2023, 0.1994, 0.2010)),\n",
    "])"
   ]
  },
  {
   "cell_type": "code",
   "execution_count": null,
   "metadata": {},
   "outputs": [],
   "source": [
    "def get_subset_indices(dataset, percentage, seed=0):\n",
    "  rng = np.random.RandomState(seed)\n",
    "  # data = dataset.data\n",
    "  targets = np.array(dataset.targets)\n",
    "  num_classes = len(np.unique(targets))\n",
    "  num_samples_per_class = int(percentage*len(dataset)/num_classes)\n",
    "\n",
    "  indices = []\n",
    "\n",
    "  for c in range(num_classes):\n",
    "    class_indices = (targets == c).nonzero()[0]\n",
    "    indices.extend(\n",
    "        list(rng.choice(class_indices, size=num_samples_per_class, replace=False))\n",
    "    )\n",
    "  return indices"
   ]
  },
  {
   "cell_type": "code",
   "execution_count": null,
   "metadata": {},
   "outputs": [],
   "source": [
    "GID_data_path = \"/home/hz271/PyTorch-StudioGAN/biggan_images/samples/CIFAR10-BigGAN-DiffAug-train-2022_02_11_07_23_15/fake\"\n",
    "\n",
    "# Datasets\n",
    "generated_train_dataset = torchvision.datasets.ImageFolder(\n",
    "    root=GID_data_path,\n",
    "    transform=transform_train\n",
    ")\n",
    "\n",
    "original_train_dataset = torchvision.datasets.CIFAR10(\n",
    "    root='/home/hz271/OOD/Saved/data/', train=True, download=True, transform=transform_train)\n",
    "\n",
    "# Concatenate\n",
    "train_set = torch.utils.data.ConcatDataset(\n",
    "    [generated_train_dataset, original_train_dataset]\n",
    ")\n",
    "\n",
    "test_set = torchvision.datasets.CIFAR10(\n",
    "    root='/home/hz271/OOD/Saved/data/', train=False, download=True, transform=transform_test)"
   ]
  }
 ],
 "metadata": {
  "kernelspec": {
   "display_name": "GAN",
   "language": "python",
   "name": "python3"
  },
  "language_info": {
   "codemirror_mode": {
    "name": "ipython",
    "version": 3
   },
   "file_extension": ".py",
   "mimetype": "text/x-python",
   "name": "python",
   "nbconvert_exporter": "python",
   "pygments_lexer": "ipython3",
   "version": "3.9.15"
  },
  "orig_nbformat": 4,
  "vscode": {
   "interpreter": {
    "hash": "2c34bcdc0c18f581504edb0ef097b0da92c535f8deb4c05bef49ab1a29f2da1f"
   }
  }
 },
 "nbformat": 4,
 "nbformat_minor": 2
}
